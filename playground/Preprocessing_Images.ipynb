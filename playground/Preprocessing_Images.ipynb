{
 "cells": [
  {
   "cell_type": "code",
   "execution_count": 6,
   "metadata": {
    "collapsed": false
   },
   "outputs": [],
   "source": [
    "import os, sys, glob\n",
    "from PIL import Image\n",
    "import matplotlib.pyplot as plt\n",
    "# im = Image.open(\"../img/1-1-Nagile.jpg\")"
   ]
  },
  {
   "cell_type": "code",
   "execution_count": 3,
   "metadata": {
    "collapsed": false
   },
   "outputs": [],
   "source": [
    "# Crop and save images\n",
    "\n",
    "# for infile in glob.glob(\"/media/ralph/Extendido/Ralph/Yelp_98_363k_images/*.jpg\"):\n",
    "larger_width = 0\n",
    "larger_height = 0\n",
    "\n",
    "min_width = 1000\n",
    "min_height = 1000\n",
    "\n",
    "size = 224, 224\n",
    "count = 0\n",
    "\n",
    "home_98k = '/media/ralph/Extendido/Ralph/Yelp_98_363k_images'\n",
    "home_98k_cropped = '/media/ralph/Extendido/Ralph/Yelp_98_363k_images_cropped'\n",
    "home_full = '/media/ralph/Extendido/Ralph/Datasets/Yelp7/2016_yelp_dataset_challenge_photos'\n",
    "home_full_cropped = '/media/ralph/Extendido/Ralph/Datasets/Yelp7/2016_yelp_dataset_challenge_photos_cropped/'\n",
    "\n",
    "widths = []\n",
    "heights = []\n",
    "\n",
    "for infile in glob.glob(home_full + \"/*.jpg\"):\n",
    "    file, ext = os.path.splitext(infile)\n",
    "    \n",
    "    splitted = infile.split('/')\n",
    "    file_name = splitted[len(splitted)-1]\n",
    "#     file_name = file_name.replace('.jpg', '_cropped.jpg')\n",
    "        \n",
    "    im = Image.open(infile)    \n",
    "    \n",
    "    width, height = im.size\n",
    "    widths.append(width)\n",
    "    heights.append(height)\n",
    "    # BEGIN: CENTER CROP\n",
    "#     left = (width-224)/2\n",
    "#     top = (height-224)/2\n",
    "#     right = (224+left)\n",
    "#     bottom = (224+top)\n",
    "    \n",
    "#     img_cropped = im.crop((left, top, right, bottom))\n",
    "#     img_cropped.save(home_full_cropped+file_name, 'JPEG')\n",
    "    # END: CENTER CROP\n",
    "    \n",
    "#     count += 1\n",
    "#     if count%2000 == 0:\n",
    "#         print count, \"imagens salvas\"\n",
    "    \n",
    "    \n",
    "    \n",
    "    \n",
    "#     if im.width > larger_width:\n",
    "#         larger_width = im.width\n",
    "#     if im.height > larger_height:\n",
    "#         larger_height = im.height\n",
    "    \n",
    "#     if im.width < min_width:\n",
    "#         min_width = im.width\n",
    "#     if im.height < min_height:\n",
    "#         min_height = im.height\n",
    "    \n",
    "#     if im.width < 126 or im.height < 126:\n",
    "#         im.show()\n",
    "    \n",
    "    # thumb = im.resize(size)\n",
    "    # thumb.save(file + \"resized.thumbnail2\", \"JPEG\")"
   ]
  },
  {
   "cell_type": "code",
   "execution_count": 21,
   "metadata": {
    "collapsed": false
   },
   "outputs": [
    {
     "name": "stdout",
     "output_type": "stream",
     "text": [
      "Larger Width 600\n",
      "Larger Height 400\n",
      "Min Width 1\n",
      "Min Height 1\n"
     ]
    }
   ],
   "source": [
    "print \"Larger Width\", larger_width\n",
    "print \"Larger Height\", larger_height\n",
    "print \"Min Width\", min_width\n",
    "print \"Min Height\", min_height"
   ]
  },
  {
   "cell_type": "code",
   "execution_count": 7,
   "metadata": {
    "collapsed": false
   },
   "outputs": [
    {
     "data": {
      "image/png": "[encoded data removed]",
      "text/plain": [
       "<matplotlib.figure.Figure at 0x7f2f239d6f10>"
      ]
     },
     "metadata": {},
     "output_type": "display_data"
    }
   ],
   "source": [
    "plt.hist(widths)\n",
    "plt.show()"
   ]
  },
  {
   "cell_type": "code",
   "execution_count": 8,
   "metadata": {
    "collapsed": false
   },
   "outputs": [
    {
     "data": {
      "image/png": "[encoded data removed]",
      "text/plain": [
       "<matplotlib.figure.Figure at 0x7f2f215c5ad0>"
      ]
     },
     "metadata": {},
     "output_type": "display_data"
    }
   ],
   "source": [
    "plt.hist(heights)\n",
    "plt.show()"
   ]
  },
  {
   "cell_type": "code",
   "execution_count": null,
   "metadata": {
    "collapsed": true
   },
   "outputs": [],
   "source": []
  }
 ],
 "metadata": {
  "anaconda-cloud": {},
  "kernelspec": {
   "display_name": "Python [conda root]",
   "language": "python",
   "name": "conda-root-py"
  },
  "language_info": {
   "codemirror_mode": {
    "name": "ipython",
    "version": 2
   },
   "file_extension": ".py",
   "mimetype": "text/x-python",
   "name": "python",
   "nbconvert_exporter": "python",
   "pygments_lexer": "ipython2",
   "version": "2.7.12"
  }
 },
 "nbformat": 4,
 "nbformat_minor": 1
}
